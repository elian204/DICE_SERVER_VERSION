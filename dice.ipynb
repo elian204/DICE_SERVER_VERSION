{
 "cells": [
  {
   "cell_type": "code",
   "execution_count": 1,
   "id": "96be790b-7d9c-41da-8a3c-cea387061295",
   "metadata": {},
   "outputs": [],
   "source": [
    "from icpm_experiments import *\n",
    "import os\n",
    "import re"
   ]
  },
  {
   "cell_type": "code",
   "execution_count": 88,
   "id": "c2038993",
   "metadata": {},
   "outputs": [
    {
     "name": "stdout",
     "output_type": "stream",
     "text": [
      "The autoreload extension is already loaded. To reload it, use:\n",
      "  %reload_ext autoreload\n"
     ]
    }
   ],
   "source": [
    "%load_ext autoreload\n",
    "%autoreload 2"
   ]
  },
  {
   "cell_type": "code",
   "execution_count": 112,
   "id": "72db1c7f-93f9-4df2-a4a3-d8661764d902",
   "metadata": {},
   "outputs": [
    {
     "name": "stdout",
     "output_type": "stream",
     "text": [
      "CSV file: /home/dsi/eli-bogdanov/Datasets/bpi/bpi_2019.csv\n",
      "Model output path: /home/dsi/eli-bogdanov/DynamicConLES/\n"
     ]
    }
   ],
   "source": [
    "# pr-3-11-1151-A48_m37_l3_noise.csv          pr-3-11-1151-A48.txt\n",
    "# pr-3-11-1151-A48_m50_l4_noise.csv          pr-3-11-1151-A48.txt\n",
    "# pr-8-11-1912-A57_m39_l3_noise.csv          pr-8-11-1912-A57.txt\n",
    "# pr-8-11-1912-A57_m52_l4_noise.csv          pr-8-11-1912-A57.txt\n",
    "# pr-1-11-1244-A59_m41_l3_noise.csv          pr-1-11-1244-A59.txt  \n",
    "# pr-1-11-1244-A59_m55_l4_noise.csv          pr-1-11-1244-A59.txt\n",
    "\n",
    "\n",
    "df_name = 'bpi_2019.csv'\n",
    "data_path = '/home/dsi/user-name/Datasets/'\n",
    "model_output_path = '/home/dsi/user-name/DynamicConLES/'\n",
    "\n",
    "base_match = re.match(r'(pr-\\d+-\\d+-\\d+-A\\d+)_m\\d+_l\\d+_noise\\.csv', df_name)\n",
    "base_filename = base_match.group(1) if base_match else None\n",
    "subfolder = 'bpi'\n",
    "\n",
    "csv_full_path = os.path.join(data_path, subfolder, df_name)\n",
    "\n",
    "print(\"CSV file:\", csv_full_path)\n",
    "print(\"Model output path:\", model_output_path)\n",
    "\n",
    "\n",
    "\n",
    "common_params = {\n",
    "    'df_name': df_name,\n",
    "    'n_train_traces': 10,\n",
    "    'n_test_traces': None,\n",
    "    'window_overlap': 0,\n",
    "    'window_lengths_lst': [15],\n",
    "    'n_final_markings_lst': [1],\n",
    "    'min_len': 0,\n",
    "    'max_len': 79,\n",
    "    'use_heuristics': True,\n",
    "    'read_model_from_file': False,\n",
    "    'return_model': True,\n",
    "    'data_path': data_path,\n",
    "    'subfolder': subfolder,\n",
    "    'print_dataset_stats': True,\n",
    "    'return_test_df': True,\n",
    "    'portion': 0.2,\n",
    "    'test_cases': None,\n",
    "    'max_successive_merges': 2,\n",
    "    'random_seed': 42\n",
    "}\n",
    "\n",
    "variations = [\n",
    "    {'use_memo': False, 'nonsync_density_tolerance': 0.1, 'window_lengths_lst': [80]},  \n",
    "    {'use_memo': False, 'nonsync_density_tolerance': 0.1, 'window_lengths_lst': [10]},\n",
    "    {'use_memo': True, 'nonsync_density_tolerance': 0.1, 'window_lengths_lst': [10]},\n",
    "    {'use_memo': False, 'nonsync_density_tolerance': 100, 'window_lengths_lst': [10], 'use_heuristics': False},\n",
    "]"
   ]
  },
  {
   "cell_type": "code",
   "execution_count": 113,
   "id": "08a10a45-d968-4497-a3e6-38ee46794028",
   "metadata": {},
   "outputs": [
    {
     "name": "stdout",
     "output_type": "stream",
     "text": [
      "\n",
      "Running variation 1: {'use_memo': False, 'nonsync_density_tolerance': 0.1, 'window_lengths_lst': [10]}\n",
      "Training Dataset Statistics:\n",
      "Number of traces: 10\n",
      "Number of unique activities: 10\n",
      "Number of unique trace variants: 6\n",
      "\n",
      "Trace Length Statistics:\n",
      "Average length: 11.70\n",
      "Min length: 5\n",
      "Max length: 69\n",
      "\n",
      "Test Dataset Statistics:\n",
      "Number of traces: 250828\n",
      "Number of unique activities: 42\n",
      "Number of unique trace variants: 11077\n",
      "\n",
      "Trace Length Statistics:\n",
      "Average length: 5.66\n",
      "Min length: 1\n",
      "Max length: 79\n",
      "\n",
      "Starting to compute mandatory transitions...\n",
      "Mandatory transitions computed in 0.4660 seconds\n",
      "Starting to compute alive transitions...\n",
      "Alive transitions computed in 0.1162 seconds\n",
      "Evaluating variant: n_markings=1, window_len=10\n",
      "Computing trace 8122/11077"
     ]
    },
    {
     "name": "stderr",
     "output_type": "stream",
     "text": [
      "IOPub message rate exceeded.\n",
      "The Jupyter server will temporarily stop sending output\n",
      "to the client in order to avoid crashing it.\n",
      "To change this limit, set the config variable\n",
      "`--ServerApp.iopub_msg_rate_limit`.\n",
      "\n",
      "Current values:\n",
      "ServerApp.iopub_msg_rate_limit=1000.0 (msgs/sec)\n",
      "ServerApp.rate_limit_window=3.0 (secs)\n",
      "\n"
     ]
    }
   ],
   "source": [
    "# Store results\n",
    "results = []\n",
    "\n",
    "for idx, var in enumerate(variations, 1):\n",
    "    print(f\"\\nRunning variation {idx}: {var}\")\n",
    "    params = {**common_params, **var}\n",
    "    res, model, alignments, test_df = compare_window_based_baselines(**params)\n",
    "    results.append((res, model, alignments, test_df))\n",
    "    print(f\"Variation {idx} done.\\n\")"
   ]
  },
  {
   "cell_type": "code",
   "execution_count": 1,
   "id": "e8868f5e-cd6a-4363-82fe-4c38f4090010",
   "metadata": {},
   "outputs": [
    {
     "ename": "NameError",
     "evalue": "name 'results' is not defined",
     "output_type": "error",
     "traceback": [
      "\u001b[0;31m---------------------------------------------------------------------------\u001b[0m",
      "\u001b[0;31mNameError\u001b[0m                                 Traceback (most recent call last)",
      "Cell \u001b[0;32mIn[1], line 2\u001b[0m\n\u001b[1;32m      1\u001b[0m \u001b[38;5;66;03m# Extract result DataFrames\u001b[39;00m\n\u001b[0;32m----> 2\u001b[0m res_dice, res_dice_m, res_conles \u001b[38;5;241m=\u001b[39m [r[\u001b[38;5;241m0\u001b[39m] \u001b[38;5;28;01mfor\u001b[39;00m r \u001b[38;5;129;01min\u001b[39;00m \u001b[43mresults\u001b[49m]\n\u001b[1;32m      4\u001b[0m \u001b[38;5;66;03m# Calculate average cost (2nd column)\u001b[39;00m\n\u001b[1;32m      5\u001b[0m avg_cost_dice    \u001b[38;5;241m=\u001b[39m res_dice\u001b[38;5;241m.\u001b[39miloc[:, \u001b[38;5;241m1\u001b[39m]\u001b[38;5;241m.\u001b[39mmean()\n",
      "\u001b[0;31mNameError\u001b[0m: name 'results' is not defined"
     ]
    }
   ],
   "source": [
    "# Extract result DataFrames\n",
    "res_dice, res_dice_m, res_conles = [r[0] for r in results]\n",
    "\n",
    "# Calculate average cost (2nd column)\n",
    "avg_cost_dice    = res_dice.iloc[:, 1].mean()\n",
    "avg_cost_dice_m  = res_dice_m.iloc[:, 1].mean()\n",
    "avg_cost_conles  = res_conles.iloc[:, 1].mean()\n",
    "\n",
    "# Calculate average time (3rd column)\n",
    "avg_time_dice    = res_dice.iloc[:, 2].mean()\n",
    "avg_time_dice_m  = res_dice_m.iloc[:, 2].mean()\n",
    "avg_time_conles  = res_conles.iloc[:, 2].mean()\n",
    "\n",
    "# Calculate the percentage difference in cost (how much higher CONLES is vs DICE)\n",
    "cost_increase_pct = ((avg_cost_conles - avg_cost_dice) / avg_cost_dice) * 100\n",
    "\n",
    "# Function to get percent of same cost values between two DataFrames\n",
    "def percentage_same_cost(df1, df2):\n",
    "    if len(df1) != len(df2):\n",
    "        raise ValueError(\"Results are not the same length—cannot compare!\")\n",
    "    return (df1.iloc[:, 1] == df2.iloc[:, 1]).mean() * 100\n",
    "\n",
    "# Print results\n",
    "print(f\"Avg cost DICE: {avg_cost_dice:.3f}\")\n",
    "print(f\"Avg cost DICE-M: {avg_cost_dice_m:.3f}\")\n",
    "print(f\"Avg cost CW: {avg_cost_conles:.3f}\")\n",
    "print(f\"CONLES cost is {cost_increase_pct:.2f}% higher than DICE\\n\")\n",
    "\n",
    "print(f\"Avg time DICE: {avg_time_dice:.4f}\")\n",
    "print(f\"Avg time DICE-M: {avg_time_dice_m:.4f}\")\n",
    "print(f\"Avg time CW: {avg_time_conles:.4f}\\n\")\n",
    "\n",
    "perc_same = percentage_same_cost(res_dice, res_conles)\n",
    "print(f\"Percentage of same costs between DICE and CW: {perc_same:.2f}%\")"
   ]
  },
  {
   "cell_type": "code",
   "execution_count": null,
   "id": "138a4fcd-224c-4d99-b666-7735a32dd7a5",
   "metadata": {},
   "outputs": [],
   "source": []
  }
 ],
 "metadata": {
  "kernelspec": {
   "display_name": "Python 3 (ipykernel)",
   "language": "python",
   "name": "python3"
  },
  "language_info": {
   "codemirror_mode": {
    "name": "ipython",
    "version": 3
   },
   "file_extension": ".py",
   "mimetype": "text/x-python",
   "name": "python",
   "nbconvert_exporter": "python",
   "pygments_lexer": "ipython3",
   "version": "3.9.21"
  }
 },
 "nbformat": 4,
 "nbformat_minor": 5
}
