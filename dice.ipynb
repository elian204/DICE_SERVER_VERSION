{
 "cells": [
  {
   "cell_type": "code",
   "execution_count": 1,
   "id": "96be790b-7d9c-41da-8a3c-cea387061295",
   "metadata": {},
   "outputs": [],
   "source": [
    "from icpm_experiments import *\n",
    "import os\n",
    "import re"
   ]
  },
  {
   "cell_type": "code",
   "execution_count": 88,
   "id": "c2038993",
   "metadata": {},
   "outputs": [
    {
     "name": "stdout",
     "output_type": "stream",
     "text": [
      "The autoreload extension is already loaded. To reload it, use:\n",
      "  %reload_ext autoreload\n"
     ]
    }
   ],
   "source": [
    "%load_ext autoreload\n",
    "%autoreload 2"
   ]
  },
  {
   "cell_type": "code",
   "execution_count": 112,
   "id": "72db1c7f-93f9-4df2-a4a3-d8661764d902",
   "metadata": {},
   "outputs": [
    {
     "name": "stdout",
     "output_type": "stream",
     "text": [
      "CSV file: /home/dsi/eli-bogdanov/Datasets/bpi/bpi_2019.csv\n",
      "Model output path: /home/dsi/eli-bogdanov/DynamicConLES/\n"
     ]
    }
   ],
   "source": [
    "# pr-3-11-1151-A48_m37_l3_noise.csv          pr-3-11-1151-A48.txt\n",
    "# pr-3-11-1151-A48_m50_l4_noise.csv          pr-3-11-1151-A48.txt\n",
    "# pr-8-11-1912-A57_m39_l3_noise.csv          pr-8-11-1912-A57.txt\n",
    "# pr-8-11-1912-A57_m52_l4_noise.csv          pr-8-11-1912-A57.txt\n",
    "# pr-1-11-1244-A59_m41_l3_noise.csv          pr-1-11-1244-A59.txt  \n",
    "# pr-1-11-1244-A59_m55_l4_noise.csv          pr-1-11-1244-A59.txt\n",
    "\n",
    "\n",
    "df_name = 'bpi_2019.csv'\n",
    "data_path = '/home/dsi/user-name/Datasets/'\n",
    "model_output_path = '/home/dsi/user-name/DynamicConLES/'\n",
    "\n",
    "base_match = re.match(r'(pr-\\d+-\\d+-\\d+-A\\d+)_m\\d+_l\\d+_noise\\.csv', df_name)\n",
    "base_filename = base_match.group(1) if base_match else None\n",
    "subfolder = 'bpi'\n",
    "\n",
    "csv_full_path = os.path.join(data_path, subfolder, df_name)\n",
    "\n",
    "print(\"CSV file:\", csv_full_path)\n",
    "print(\"Model output path:\", model_output_path)\n",
    "\n",
    "\n",
    "\n",
    "common_params = {\n",
    "    'df_name': df_name,\n",
    "    'n_train_traces': 10,\n",
    "    'n_test_traces': None,\n",
    "    'window_overlap': 0,\n",
    "    'window_lengths_lst': [15],\n",
    "    'n_final_markings_lst': [1],\n",
    "    'min_len': 0,\n",
    "    'max_len': 79,\n",
    "    'use_heuristics': True,\n",
    "    'read_model_from_file': False,\n",
    "    'return_model': True,\n",
    "    'data_path': data_path,\n",
    "    'subfolder': subfolder,\n",
    "    'print_dataset_stats': True,\n",
    "    'return_test_df': True,\n",
    "    'portion': 0.2,\n",
    "    'test_cases': None,\n",
    "    'max_successive_merges': 2,\n",
    "    'random_seed': 42\n",
    "}\n",
    "\n",
    "variations = [\n",
    "    {'use_memo': False, 'nonsync_density_tolerance': 0.1, 'window_lengths_lst': [80]},  \n",
    "    {'use_memo': False, 'nonsync_density_tolerance': 0.1, 'window_lengths_lst': [10]},\n",
    "    {'use_memo': True, 'nonsync_density_tolerance': 0.1, 'window_lengths_lst': [10]},\n",
    "    {'use_memo': False, 'nonsync_density_tolerance': 100, 'window_lengths_lst': [10], 'use_heuristics': False},\n",
    "]"
   ]
  },
  {
   "cell_type": "code",
   "execution_count": 113,
   "id": "08a10a45-d968-4497-a3e6-38ee46794028",
   "metadata": {},
   "outputs": [
    {
     "name": "stdout",
     "output_type": "stream",
     "text": [
      "\n",
      "Running variation 1: {'use_memo': False, 'nonsync_density_tolerance': 0.1, 'window_lengths_lst': [10]}\n",
      "Training Dataset Statistics:\n",
      "Number of traces: 10\n",
      "Number of unique activities: 10\n",
      "Number of unique trace variants: 6\n",
      "\n",
      "Trace Length Statistics:\n",
      "Average length: 11.70\n",
      "Min length: 5\n",
      "Max length: 69\n",
      "\n",
      "Test Dataset Statistics:\n",
      "Number of traces: 250828\n",
      "Number of unique activities: 42\n",
      "Number of unique trace variants: 11077\n",
      "\n",
      "Trace Length Statistics:\n",
      "Average length: 5.66\n",
      "Min length: 1\n",
      "Max length: 79\n",
      "\n",
      "Starting to compute mandatory transitions...\n",
      "Mandatory transitions computed in 0.4660 seconds\n",
      "Starting to compute alive transitions...\n",
      "Alive transitions computed in 0.1162 seconds\n",
      "Evaluating variant: n_markings=1, window_len=10\n",
      "Computing trace 8122/11077"
     ]
    },
    {
     "name": "stderr",
     "output_type": "stream",
     "text": [
      "IOPub message rate exceeded.\n",
      "The Jupyter server will temporarily stop sending output\n",
      "to the client in order to avoid crashing it.\n",
      "To change this limit, set the config variable\n",
      "`--ServerApp.iopub_msg_rate_limit`.\n",
      "\n",
      "Current values:\n",
      "ServerApp.iopub_msg_rate_limit=1000.0 (msgs/sec)\n",
      "ServerApp.rate_limit_window=3.0 (secs)\n",
      "\n"
     ]
    }
   ],
   "source": [
    "# Store results\n",
    "results = []\n",
    "\n",
    "for idx, var in enumerate(variations, 1):\n",
    "    print(f\"\\nRunning variation {idx}: {var}\")\n",
    "    params = {**common_params, **var}\n",
    "    res, model, alignments, test_df = compare_window_based_baselines(**params)\n",
    "    results.append((res, model, alignments, test_df))\n",
    "    print(f\"Variation {idx} done.\\n\")"
   ]
  },
  {
   "cell_type": "code",
   "execution_count": null,
   "id": "138a4fcd-224c-4d99-b666-7735a32dd7a5",
   "metadata": {},
   "outputs": [],
   "source": []
  }
 ],
 "metadata": {
  "kernelspec": {
   "display_name": "Python 3 (ipykernel)",
   "language": "python",
   "name": "python3"
  },
  "language_info": {
   "codemirror_mode": {
    "name": "ipython",
    "version": 3
   },
   "file_extension": ".py",
   "mimetype": "text/x-python",
   "name": "python",
   "nbconvert_exporter": "python",
   "pygments_lexer": "ipython3",
   "version": "3.9.21"
  }
 },
 "nbformat": 4,
 "nbformat_minor": 5
}
